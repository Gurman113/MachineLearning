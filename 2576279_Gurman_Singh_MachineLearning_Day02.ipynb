{
 "cells": [
  {
   "cell_type": "code",
   "execution_count": 11,
   "id": "5f5c41dc",
   "metadata": {},
   "outputs": [],
   "source": [
    "import pandas as pd\n",
    "import numpy as np\n",
    "import statsmodels.api as sm\n",
    "from statsmodels.stats.outliers_influence import variance_inflation_factor\n",
    "from sklearn.metrics import mean_squared_error, mean_absolute_error, r2_score\n",
    "from sklearn.model_selection import train_test_split\n",
    "import matplotlib.pyplot as plt  # Import matplotlib for plotting"
   ]
  },
  {
   "cell_type": "code",
   "execution_count": 19,
   "id": "a78fb5b3",
   "metadata": {},
   "outputs": [
    {
     "data": {
      "text/html": [
       "<div>\n",
       "<style scoped>\n",
       "    .dataframe tbody tr th:only-of-type {\n",
       "        vertical-align: middle;\n",
       "    }\n",
       "\n",
       "    .dataframe tbody tr th {\n",
       "        vertical-align: top;\n",
       "    }\n",
       "\n",
       "    .dataframe thead th {\n",
       "        text-align: right;\n",
       "    }\n",
       "</style>\n",
       "<table border=\"1\" class=\"dataframe\">\n",
       "  <thead>\n",
       "    <tr style=\"text-align: right;\">\n",
       "      <th></th>\n",
       "      <th>Unnamed: 0</th>\n",
       "      <th>company</th>\n",
       "      <th>department</th>\n",
       "      <th>employee_id</th>\n",
       "      <th>age</th>\n",
       "      <th>age_when_joined</th>\n",
       "      <th>years_in_the_company</th>\n",
       "      <th>salary</th>\n",
       "      <th>annual_bonus</th>\n",
       "      <th>prior_years_experience</th>\n",
       "      <th>full_time</th>\n",
       "      <th>part_time</th>\n",
       "      <th>contractor</th>\n",
       "    </tr>\n",
       "  </thead>\n",
       "  <tbody>\n",
       "    <tr>\n",
       "      <th>0</th>\n",
       "      <td>0</td>\n",
       "      <td>Glasses</td>\n",
       "      <td>BigData</td>\n",
       "      <td>16</td>\n",
       "      <td>41</td>\n",
       "      <td>38</td>\n",
       "      <td>3</td>\n",
       "      <td>68074.971354</td>\n",
       "      <td>17664.104103</td>\n",
       "      <td>3</td>\n",
       "      <td>0.000000</td>\n",
       "      <td>0.000000</td>\n",
       "      <td>1.000000</td>\n",
       "    </tr>\n",
       "    <tr>\n",
       "      <th>1</th>\n",
       "      <td>1</td>\n",
       "      <td>Glasses</td>\n",
       "      <td>AI</td>\n",
       "      <td>56</td>\n",
       "      <td>44</td>\n",
       "      <td>42</td>\n",
       "      <td>2</td>\n",
       "      <td>49092.147458</td>\n",
       "      <td>21551.141079</td>\n",
       "      <td>2</td>\n",
       "      <td>0.000000</td>\n",
       "      <td>0.184991</td>\n",
       "      <td>1.000000</td>\n",
       "    </tr>\n",
       "    <tr>\n",
       "      <th>2</th>\n",
       "      <td>2</td>\n",
       "      <td>Cheerper</td>\n",
       "      <td>Support</td>\n",
       "      <td>59</td>\n",
       "      <td>41</td>\n",
       "      <td>40</td>\n",
       "      <td>1</td>\n",
       "      <td>40000.000000</td>\n",
       "      <td>23698.878851</td>\n",
       "      <td>2</td>\n",
       "      <td>0.000000</td>\n",
       "      <td>0.919887</td>\n",
       "      <td>0.662706</td>\n",
       "    </tr>\n",
       "    <tr>\n",
       "      <th>3</th>\n",
       "      <td>3</td>\n",
       "      <td>Glasses</td>\n",
       "      <td>Design</td>\n",
       "      <td>40</td>\n",
       "      <td>39</td>\n",
       "      <td>32</td>\n",
       "      <td>7</td>\n",
       "      <td>108192.465506</td>\n",
       "      <td>21570.929657</td>\n",
       "      <td>1</td>\n",
       "      <td>0.930396</td>\n",
       "      <td>0.546206</td>\n",
       "      <td>0.000000</td>\n",
       "    </tr>\n",
       "    <tr>\n",
       "      <th>4</th>\n",
       "      <td>4</td>\n",
       "      <td>Glasses</td>\n",
       "      <td>Search Engine</td>\n",
       "      <td>47</td>\n",
       "      <td>30</td>\n",
       "      <td>22</td>\n",
       "      <td>9</td>\n",
       "      <td>71291.191132</td>\n",
       "      <td>21565.505715</td>\n",
       "      <td>2</td>\n",
       "      <td>0.525432</td>\n",
       "      <td>0.938412</td>\n",
       "      <td>0.000000</td>\n",
       "    </tr>\n",
       "    <tr>\n",
       "      <th>...</th>\n",
       "      <td>...</td>\n",
       "      <td>...</td>\n",
       "      <td>...</td>\n",
       "      <td>...</td>\n",
       "      <td>...</td>\n",
       "      <td>...</td>\n",
       "      <td>...</td>\n",
       "      <td>...</td>\n",
       "      <td>...</td>\n",
       "      <td>...</td>\n",
       "      <td>...</td>\n",
       "      <td>...</td>\n",
       "      <td>...</td>\n",
       "    </tr>\n",
       "    <tr>\n",
       "      <th>4995</th>\n",
       "      <td>4995</td>\n",
       "      <td>Cheerper</td>\n",
       "      <td>Search Engine</td>\n",
       "      <td>37</td>\n",
       "      <td>42</td>\n",
       "      <td>35</td>\n",
       "      <td>7</td>\n",
       "      <td>76541.841502</td>\n",
       "      <td>17366.896122</td>\n",
       "      <td>2</td>\n",
       "      <td>0.269842</td>\n",
       "      <td>0.691977</td>\n",
       "      <td>0.038156</td>\n",
       "    </tr>\n",
       "    <tr>\n",
       "      <th>4996</th>\n",
       "      <td>4996</td>\n",
       "      <td>Glasses</td>\n",
       "      <td>AI</td>\n",
       "      <td>1</td>\n",
       "      <td>36</td>\n",
       "      <td>25</td>\n",
       "      <td>9</td>\n",
       "      <td>113651.485089</td>\n",
       "      <td>20888.144794</td>\n",
       "      <td>1</td>\n",
       "      <td>0.356024</td>\n",
       "      <td>0.098686</td>\n",
       "      <td>0.545462</td>\n",
       "    </tr>\n",
       "    <tr>\n",
       "      <th>4997</th>\n",
       "      <td>4997</td>\n",
       "      <td>Glasses</td>\n",
       "      <td>Search Engine</td>\n",
       "      <td>20</td>\n",
       "      <td>35</td>\n",
       "      <td>30</td>\n",
       "      <td>5</td>\n",
       "      <td>77560.047560</td>\n",
       "      <td>24792.910000</td>\n",
       "      <td>2</td>\n",
       "      <td>0.179350</td>\n",
       "      <td>0.361727</td>\n",
       "      <td>0.459085</td>\n",
       "    </tr>\n",
       "    <tr>\n",
       "      <th>4998</th>\n",
       "      <td>4998</td>\n",
       "      <td>Pear</td>\n",
       "      <td>Sales</td>\n",
       "      <td>9</td>\n",
       "      <td>49</td>\n",
       "      <td>48</td>\n",
       "      <td>1</td>\n",
       "      <td>153000.000000</td>\n",
       "      <td>11700.850325</td>\n",
       "      <td>4</td>\n",
       "      <td>1.000000</td>\n",
       "      <td>0.000000</td>\n",
       "      <td>0.585987</td>\n",
       "    </tr>\n",
       "    <tr>\n",
       "      <th>4999</th>\n",
       "      <td>4999</td>\n",
       "      <td>Glasses</td>\n",
       "      <td>AI</td>\n",
       "      <td>36</td>\n",
       "      <td>43</td>\n",
       "      <td>38</td>\n",
       "      <td>5</td>\n",
       "      <td>91443.504951</td>\n",
       "      <td>13529.040663</td>\n",
       "      <td>4</td>\n",
       "      <td>0.755094</td>\n",
       "      <td>0.000000</td>\n",
       "      <td>0.462368</td>\n",
       "    </tr>\n",
       "  </tbody>\n",
       "</table>\n",
       "<p>5000 rows × 13 columns</p>\n",
       "</div>"
      ],
      "text/plain": [
       "      Unnamed: 0   company     department  employee_id  age  age_when_joined  \\\n",
       "0              0   Glasses        BigData           16   41               38   \n",
       "1              1   Glasses             AI           56   44               42   \n",
       "2              2  Cheerper        Support           59   41               40   \n",
       "3              3   Glasses         Design           40   39               32   \n",
       "4              4   Glasses  Search Engine           47   30               22   \n",
       "...          ...       ...            ...          ...  ...              ...   \n",
       "4995        4995  Cheerper  Search Engine           37   42               35   \n",
       "4996        4996   Glasses             AI            1   36               25   \n",
       "4997        4997   Glasses  Search Engine           20   35               30   \n",
       "4998        4998      Pear          Sales            9   49               48   \n",
       "4999        4999   Glasses             AI           36   43               38   \n",
       "\n",
       "      years_in_the_company         salary  annual_bonus  \\\n",
       "0                        3   68074.971354  17664.104103   \n",
       "1                        2   49092.147458  21551.141079   \n",
       "2                        1   40000.000000  23698.878851   \n",
       "3                        7  108192.465506  21570.929657   \n",
       "4                        9   71291.191132  21565.505715   \n",
       "...                    ...            ...           ...   \n",
       "4995                     7   76541.841502  17366.896122   \n",
       "4996                     9  113651.485089  20888.144794   \n",
       "4997                     5   77560.047560  24792.910000   \n",
       "4998                     1  153000.000000  11700.850325   \n",
       "4999                     5   91443.504951  13529.040663   \n",
       "\n",
       "      prior_years_experience  full_time  part_time  contractor  \n",
       "0                          3   0.000000   0.000000    1.000000  \n",
       "1                          2   0.000000   0.184991    1.000000  \n",
       "2                          2   0.000000   0.919887    0.662706  \n",
       "3                          1   0.930396   0.546206    0.000000  \n",
       "4                          2   0.525432   0.938412    0.000000  \n",
       "...                      ...        ...        ...         ...  \n",
       "4995                       2   0.269842   0.691977    0.038156  \n",
       "4996                       1   0.356024   0.098686    0.545462  \n",
       "4997                       2   0.179350   0.361727    0.459085  \n",
       "4998                       4   1.000000   0.000000    0.585987  \n",
       "4999                       4   0.755094   0.000000    0.462368  \n",
       "\n",
       "[5000 rows x 13 columns]"
      ]
     },
     "execution_count": 19,
     "metadata": {},
     "output_type": "execute_result"
    }
   ],
   "source": [
    "#1. Initial Linear Regression Model:\n",
    "\n",
    "# a. Describe the dataset and the variables you're using for predicting employee performance.\n",
    "data = pd.read_csv('company_employee_details.csv')\n",
    "data"
   ]
  },
  {
   "cell_type": "code",
   "execution_count": 8,
   "id": "c0ff26c5",
   "metadata": {},
   "outputs": [],
   "source": [
    "# b. Implement a simple linear regression model:\n",
    "X = data[['salary', 'annual_bonus', 'contractor']]\n",
    "y = data['age_when_joined']\n",
    "\n",
    "# Add a constant for the intercept in the model\n",
    "X = sm.add_constant(X)\n",
    "\n",
    "# Fit the initial linear regression model\n",
    "model = sm.OLS(y, X).fit()"
   ]
  },
  {
   "cell_type": "raw",
   "id": "d7897bb9",
   "metadata": {},
   "source": [
    "# c. Discuss why linear regression is suitable:\n",
    "\n",
    "Linear regression is suitable for this problem as it helps us understand the relationship between employee performance and the predictor variables in a straightforward and interpretable way."
   ]
  },
  {
   "cell_type": "raw",
   "id": "7e06800c",
   "metadata": {},
   "source": [
    "# 2. Identifying Heteroscedasticity:\n",
    "# a. Explain what heteroscedasticity is:\n",
    "Heteroscedasticity refers to the situation where the variance of the residuals is not constant across the range of the independent variables.\n"
   ]
  },
  {
   "cell_type": "code",
   "execution_count": 12,
   "id": "dfc2ac68",
   "metadata": {},
   "outputs": [
    {
     "data": {
      "image/png": "[encoded data removed]",
      "text/plain": [
       "<Figure size 640x480 with 1 Axes>"
      ]
     },
     "metadata": {},
     "output_type": "display_data"
    },
    {
     "name": "stdout",
     "output_type": "stream",
     "text": [
      "Breusch-Pagan test p-value: 0.056940767805266\n"
     ]
    }
   ],
   "source": [
    "# b. Methods for diagnosing heteroscedasticity:\n",
    "# Residuals vs. Fitted plot and Breusch-Pagan test\n",
    "residuals = model.resid\n",
    "predicted = model.fittedvalues\n",
    "plt.scatter(predicted, residuals)\n",
    "plt.xlabel('Fitted Values')\n",
    "plt.ylabel('Residuals')\n",
    "plt.title('Residuals vs. Fitted')\n",
    "plt.show()\n",
    "\n",
    "# Apply Breusch-Pagan test\n",
    "from statsmodels.stats.diagnostic import het_breuschpagan\n",
    "bp_test = het_breuschpagan(residuals, X)\n",
    "print(\"Breusch-Pagan test p-value:\", bp_test[1])"
   ]
  },
  {
   "cell_type": "raw",
   "id": "b8db26b8",
   "metadata": {},
   "source": [
    "# 3. Remedying Heteroscedasticity:\n",
    "# a. Potential consequences of heteroscedasticity:\n",
    "Heteroscedasticity can lead to inefficient and biased coefficient estimates and can affect the validity of statistical tests."
   ]
  },
  {
   "cell_type": "code",
   "execution_count": 13,
   "id": "d4a0dc44",
   "metadata": {},
   "outputs": [],
   "source": [
    "# b. Ways to address heteroscedasticity:\n",
    "# Transform variables (e.g., log transformation) or use weighted least squares (WLS) regression.\n",
    "\n",
    "# Log-transform the response variable\n",
    "y = np.log(y)\n",
    "\n",
    "# Fit a WLS model\n",
    "wls_model = sm.WLS(y, X, weights=1/predicted).fit()"
   ]
  },
  {
   "cell_type": "raw",
   "id": "e245fb00",
   "metadata": {},
   "source": [
    "# 4. Detecting Multicollinearity:\n",
    "# a. Explain what multicollinearity is:\n",
    "Multicollinearity occurs when predictor variables in a regression model are highly correlated with each other, which can lead to unstable and unreliable coefficient estimates.\n"
   ]
  },
  {
   "cell_type": "code",
   "execution_count": 15,
   "id": "d1c2d039",
   "metadata": {},
   "outputs": [
    {
     "name": "stdout",
     "output_type": "stream",
     "text": [
      "       Variable        VIF\n",
      "0         const  29.921140\n",
      "1        salary   1.111503\n",
      "2  annual_bonus   1.041675\n",
      "3    contractor   1.152010\n"
     ]
    }
   ],
   "source": [
    "# b. Use VIFs to identify multicollinearity:\n",
    "vif = pd.DataFrame()\n",
    "vif[\"Variable\"] = X.columns\n",
    "vif[\"VIF\"] = [variance_inflation_factor(X.values, i) for i in range(X.shape[1])]\n",
    "print(vif)"
   ]
  },
  {
   "cell_type": "raw",
   "id": "2f3f143c",
   "metadata": {},
   "source": [
    "# 5. Mitigating Multicollinearity:\n",
    "# a. Discuss potential issues and strategies for mitigating multicollinearity.\n",
    "Potential issues include inflated standard errors and unstable coefficients. Strategies include feature selection or regularization techniques (e.g., Lasso or Ridge regression).\n"
   ]
  },
  {
   "cell_type": "code",
   "execution_count": 16,
   "id": "f201876b",
   "metadata": {},
   "outputs": [
    {
     "data": {
      "text/html": [
       "<style>#sk-container-id-1 {color: black;}#sk-container-id-1 pre{padding: 0;}#sk-container-id-1 div.sk-toggleable {background-color: white;}#sk-container-id-1 label.sk-toggleable__label {cursor: pointer;display: block;width: 100%;margin-bottom: 0;padding: 0.3em;box-sizing: border-box;text-align: center;}#sk-container-id-1 label.sk-toggleable__label-arrow:before {content: \"▸\";float: left;margin-right: 0.25em;color: #696969;}#sk-container-id-1 label.sk-toggleable__label-arrow:hover:before {color: black;}#sk-container-id-1 div.sk-estimator:hover label.sk-toggleable__label-arrow:before {color: black;}#sk-container-id-1 div.sk-toggleable__content {max-height: 0;max-width: 0;overflow: hidden;text-align: left;background-color: #f0f8ff;}#sk-container-id-1 div.sk-toggleable__content pre {margin: 0.2em;color: black;border-radius: 0.25em;background-color: #f0f8ff;}#sk-container-id-1 input.sk-toggleable__control:checked~div.sk-toggleable__content {max-height: 200px;max-width: 100%;overflow: auto;}#sk-container-id-1 input.sk-toggleable__control:checked~label.sk-toggleable__label-arrow:before {content: \"▾\";}#sk-container-id-1 div.sk-estimator input.sk-toggleable__control:checked~label.sk-toggleable__label {background-color: #d4ebff;}#sk-container-id-1 div.sk-label input.sk-toggleable__control:checked~label.sk-toggleable__label {background-color: #d4ebff;}#sk-container-id-1 input.sk-hidden--visually {border: 0;clip: rect(1px 1px 1px 1px);clip: rect(1px, 1px, 1px, 1px);height: 1px;margin: -1px;overflow: hidden;padding: 0;position: absolute;width: 1px;}#sk-container-id-1 div.sk-estimator {font-family: monospace;background-color: #f0f8ff;border: 1px dotted black;border-radius: 0.25em;box-sizing: border-box;margin-bottom: 0.5em;}#sk-container-id-1 div.sk-estimator:hover {background-color: #d4ebff;}#sk-container-id-1 div.sk-parallel-item::after {content: \"\";width: 100%;border-bottom: 1px solid gray;flex-grow: 1;}#sk-container-id-1 div.sk-label:hover label.sk-toggleable__label {background-color: #d4ebff;}#sk-container-id-1 div.sk-serial::before {content: \"\";position: absolute;border-left: 1px solid gray;box-sizing: border-box;top: 0;bottom: 0;left: 50%;z-index: 0;}#sk-container-id-1 div.sk-serial {display: flex;flex-direction: column;align-items: center;background-color: white;padding-right: 0.2em;padding-left: 0.2em;position: relative;}#sk-container-id-1 div.sk-item {position: relative;z-index: 1;}#sk-container-id-1 div.sk-parallel {display: flex;align-items: stretch;justify-content: center;background-color: white;position: relative;}#sk-container-id-1 div.sk-item::before, #sk-container-id-1 div.sk-parallel-item::before {content: \"\";position: absolute;border-left: 1px solid gray;box-sizing: border-box;top: 0;bottom: 0;left: 50%;z-index: -1;}#sk-container-id-1 div.sk-parallel-item {display: flex;flex-direction: column;z-index: 1;position: relative;background-color: white;}#sk-container-id-1 div.sk-parallel-item:first-child::after {align-self: flex-end;width: 50%;}#sk-container-id-1 div.sk-parallel-item:last-child::after {align-self: flex-start;width: 50%;}#sk-container-id-1 div.sk-parallel-item:only-child::after {width: 0;}#sk-container-id-1 div.sk-dashed-wrapped {border: 1px dashed gray;margin: 0 0.4em 0.5em 0.4em;box-sizing: border-box;padding-bottom: 0.4em;background-color: white;}#sk-container-id-1 div.sk-label label {font-family: monospace;font-weight: bold;display: inline-block;line-height: 1.2em;}#sk-container-id-1 div.sk-label-container {text-align: center;}#sk-container-id-1 div.sk-container {/* jupyter's `normalize.less` sets `[hidden] { display: none; }` but bootstrap.min.css set `[hidden] { display: none !important; }` so we also need the `!important` here to be able to override the default hidden behavior on the sphinx rendered scikit-learn.org. See: https://github.com/scikit-learn/scikit-learn/issues/21755 */display: inline-block !important;position: relative;}#sk-container-id-1 div.sk-text-repr-fallback {display: none;}</style><div id=\"sk-container-id-1\" class=\"sk-top-container\"><div class=\"sk-text-repr-fallback\"><pre>Ridge()</pre><b>In a Jupyter environment, please rerun this cell to show the HTML representation or trust the notebook. <br />On GitHub, the HTML representation is unable to render, please try loading this page with nbviewer.org.</b></div><div class=\"sk-container\" hidden><div class=\"sk-item\"><div class=\"sk-estimator sk-toggleable\"><input class=\"sk-toggleable__control sk-hidden--visually\" id=\"sk-estimator-id-1\" type=\"checkbox\" checked><label for=\"sk-estimator-id-1\" class=\"sk-toggleable__label sk-toggleable__label-arrow\">Ridge</label><div class=\"sk-toggleable__content\"><pre>Ridge()</pre></div></div></div></div></div>"
      ],
      "text/plain": [
       "Ridge()"
      ]
     },
     "execution_count": 16,
     "metadata": {},
     "output_type": "execute_result"
    }
   ],
   "source": [
    "# b. Implement the chosen strategy to reduce multicollinearity.\n",
    "\n",
    "# Example: Using Ridge regression\n",
    "from sklearn.linear_model import Ridge\n",
    "ridge_model = Ridge(alpha=1.0)\n",
    "ridge_model.fit(X, y)"
   ]
  },
  {
   "cell_type": "code",
   "execution_count": 17,
   "id": "34debc07",
   "metadata": {},
   "outputs": [],
   "source": [
    "# 6. Model Evaluation:\n",
    "# a. Evaluate the improved model using metrics (R-squared, MAE, MSE, RMSE).\n",
    "\n",
    "# Split the data into training and testing sets\n",
    "X_train, X_test, y_train, y_test = train_test_split(X, y, test_size=0.2, random_state=42)\n",
    "\n",
    "# Fit the model on the training data\n",
    "model = sm.OLS(y_train, X_train).fit()\n",
    "\n",
    "# Make predictions on the test data\n",
    "y_pred = model.predict(X_test)\n",
    "\n",
    "# Calculate evaluation metrics\n",
    "r2 = r2_score(y_test, y_pred)\n",
    "mae = mean_absolute_error(y_test, y_pred)\n",
    "mse = mean_squared_error(y_test, y_pred)\n",
    "rmse = np.sqrt(mse)"
   ]
  },
  {
   "cell_type": "code",
   "execution_count": 18,
   "id": "41c976b9",
   "metadata": {},
   "outputs": [],
   "source": [
    "# b. Discuss the significance of the model's coefficients and their interpretations.\n",
    "# Interpret the coefficients based on the transformed variables and reduced multicollinearity."
   ]
  },
  {
   "cell_type": "raw",
   "id": "0301c17d",
   "metadata": {},
   "source": [
    "# 7. Conclusion:\n",
    "# a. Summarize the impact of addressing heteroscedasticity and multicollinearity on the model.\n",
    "Addressing heteroscedasticity and multicollinearity improves the model's accuracy and interpretability, making it more reliable for predicting employee performance.\n",
    "\n",
    "# b. Provide recommendations for future model development and potential areas for improvement.\n",
    "Consider collecting additional data, exploring different transformations, or trying more advanced modeling techniques such as ensemble methods or neural networks.\n",
    "\n",
    "# This is a simplified example, and y"
   ]
  },
  {
   "cell_type": "code",
   "execution_count": null,
   "id": "056b335e",
   "metadata": {},
   "outputs": [],
   "source": []
  }
 ],
 "metadata": {
  "kernelspec": {
   "display_name": "Python 3 (ipykernel)",
   "language": "python",
   "name": "python3"
  },
  "language_info": {
   "codemirror_mode": {
    "name": "ipython",
    "version": 3
   },
   "file_extension": ".py",
   "mimetype": "text/x-python",
   "name": "python",
   "nbconvert_exporter": "python",
   "pygments_lexer": "ipython3",
   "version": "3.11.4"
  }
 },
 "nbformat": 4,
 "nbformat_minor": 5
}
